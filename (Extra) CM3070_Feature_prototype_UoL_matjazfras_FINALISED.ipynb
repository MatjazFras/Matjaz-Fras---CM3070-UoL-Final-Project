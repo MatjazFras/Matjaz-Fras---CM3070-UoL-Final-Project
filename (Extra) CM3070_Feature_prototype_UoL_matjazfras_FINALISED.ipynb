{
 "cells": [
  {
   "cell_type": "markdown",
   "metadata": {},
   "source": [
    "# **University of London Final Project - Preliminary Report Feature Prototype**\n",
    "### **Data-Science Pipeline on the PeerIndex “Influencers in Social Networks” Dataset for Trend-Emergence Prediction**\n",
    "#### **Made by Matjaz Fras, Student Number: 210441482 - Finalised on June 16th 2025**"
   ]
  },
  {
   "cell_type": "markdown",
   "metadata": {},
   "source": [
    "### **1. Notebook Overview**\n",
    "\n",
    "Welcome to the feature-prototype for my CM3005 project on social media early trend-emergence prediction! :)\n",
    "\n",
    "This notebook aims to provide one job; to prove that the raw Twitter signals in the public PeerIndex “Influencers in Social Networks” corpus can power a fast, reasonably accurate classifier without GPUs or external APIs. It was obtained from kaggle through the following link: https://www.kaggle.com/competitions/predict-who-is-more-influential-in-a-social-network/overview\n",
    "\n",
    "What you'll see inside:\n",
    "\n",
    "* **Dataset in play** - 5 500 pair-wise rows, each comparing two users (A vs B) across 11 pre-computed activity fields (followers, mentions, retweets, three local-network stats, etc.).  \n",
    "* **Pre-processing** - minimal: load via Pandas, sanity-check nulls (none), basic descriptive stats, and a Pearson heat-map to spot multicollinearity.  \n",
    "* **Feature construction** - we follow the original PeerIndex competition trick: subtract **B**’s vector from **A**’s, yielding nine `A/B_…` deltas that capture relative influence at a glance.  \n",
    "* **Baseline models** - four quick classifiers implemented out of the box:  \n",
    "  * *Logistic Regression* (interpretable yard-stick)  \n",
    "  * *Random Forest* (non-linear, feature-importance insight)  \n",
    "  * *k-Nearest Neighbours* (distance-based sanity check)  \n",
    "  * *XGBoost* (gradient-boosted heavyweight)  \n",
    "* **Validation recipe** - stratified 70/30 train-test split plus 10-fold cross-validation on the training set. We log Accuracy, Precision, Recall, F1-Score and the confusion matrix for each run.\n",
    "\n",
    "As such, this initial feature prototype seeks to just begin the journey of early trend-emergence prediction by keeping things relatively simple. Of course, as the project advances in time, so too will it advance in complexity and features. This is, after all, just the feature prototype and not the final artefact..."
   ]
  },
  {
   "cell_type": "markdown",
   "metadata": {},
   "source": [
    "### **2. A Closer Look at the Dataset**\n",
    "\n",
    "The PeerIndex \"Influencers in Social Networks\" corpus provides 11 variables that summarise each person’s Twitter activity:\n",
    "- **Follower Count** – total followers of the user  \n",
    "- **Following Count** – number of accounts the user follows  \n",
    "- **Listed Count** – how many public lists include the user  \n",
    "- **Mentions Received** – times others @-mention the user  \n",
    "- **Retweets Received** – retweets of the user’s posts  \n",
    "- **Mentions Sent** – @-mentions the user sends to others  \n",
    "- **Retweets Sent** – times the user retweets external content  \n",
    "- **Posts** – total tweets authored  \n",
    "- **Network Feature 1, 2, 3** – local-network metrics supplied by PeerIndex (e.g., two-hop follower reach)"
   ]
  },
  {
   "cell_type": "markdown",
   "metadata": {},
   "source": [
    "### **3. Pre-Processing**\n",
    "\n",
    "In this section of the notebook, I will undertake minimal pre-processing by leveraging pandas. Furthermore, a presentation of basic descriptive stats will follow, alongside Pearson heat-maps to spot multicollinearity."
   ]
  },
  {
   "cell_type": "markdown",
   "metadata": {},
   "source": [
    "#### **3.1 Importing Necessary Libraries**"
   ]
  },
  {
   "cell_type": "code",
   "execution_count": 49,
   "metadata": {},
   "outputs": [],
   "source": [
    "# Let’s start by loading the essentials.\n",
    "# These packages let us read the CSV, explore the table, and draw quick visual checks.\n",
    "# Imports are grouped so that the core \"data engines\" (pandas / numpy) appear first.\n",
    "\n",
    "# Tabular wrangling & numerics\n",
    "import pandas as pd          # DataFrame workhorse: read_csv, filtering, summary stats\n",
    "import numpy as np           # Fast vectorised maths that pandas relies on under-the-hood\n",
    "\n",
    "# Stats-focused plotting helpers\n",
    "import seaborn as sns        # Handy statistical graphics (heat-maps, pair-plots, etc.)\n",
    "import matplotlib.pyplot as plt   # Lower-level figure control: axes, titles, savefig\n",
    "from matplotlib import pyplot     # Optional shorthand that some helper functions expect\n",
    "\n",
    "# Jupyter directive to embed plots right under each code cell\n",
    "%matplotlib inline"
   ]
  },
  {
   "cell_type": "markdown",
   "metadata": {},
   "source": [
    "#### **3.2 Loading DataFrame via Pandas and Basic Operations**"
   ]
  },
  {
   "cell_type": "code",
   "execution_count": 50,
   "metadata": {},
   "outputs": [
    {
     "data": {
      "text/html": [
       "<div>\n",
       "<style scoped>\n",
       "    .dataframe tbody tr th:only-of-type {\n",
       "        vertical-align: middle;\n",
       "    }\n",
       "\n",
       "    .dataframe tbody tr th {\n",
       "        vertical-align: top;\n",
       "    }\n",
       "\n",
       "    .dataframe thead th {\n",
       "        text-align: right;\n",
       "    }\n",
       "</style>\n",
       "<table border=\"1\" class=\"dataframe\">\n",
       "  <thead>\n",
       "    <tr style=\"text-align: right;\">\n",
       "      <th></th>\n",
       "      <th>Choice</th>\n",
       "      <th>A_follower_count</th>\n",
       "      <th>A_following_count</th>\n",
       "      <th>A_listed_count</th>\n",
       "      <th>A_mentions_received</th>\n",
       "      <th>A_retweets_received</th>\n",
       "      <th>A_mentions_sent</th>\n",
       "      <th>A_retweets_sent</th>\n",
       "      <th>A_posts</th>\n",
       "      <th>A_network_feature_1</th>\n",
       "      <th>...</th>\n",
       "      <th>B_following_count</th>\n",
       "      <th>B_listed_count</th>\n",
       "      <th>B_mentions_received</th>\n",
       "      <th>B_retweets_received</th>\n",
       "      <th>B_mentions_sent</th>\n",
       "      <th>B_retweets_sent</th>\n",
       "      <th>B_posts</th>\n",
       "      <th>B_network_feature_1</th>\n",
       "      <th>B_network_feature_2</th>\n",
       "      <th>B_network_feature_3</th>\n",
       "    </tr>\n",
       "  </thead>\n",
       "  <tbody>\n",
       "    <tr>\n",
       "      <th>0</th>\n",
       "      <td>0</td>\n",
       "      <td>228</td>\n",
       "      <td>302</td>\n",
       "      <td>3</td>\n",
       "      <td>0.583979</td>\n",
       "      <td>0.100503</td>\n",
       "      <td>0.100503</td>\n",
       "      <td>0.100503</td>\n",
       "      <td>0.362150</td>\n",
       "      <td>2</td>\n",
       "      <td>...</td>\n",
       "      <td>29808</td>\n",
       "      <td>1689</td>\n",
       "      <td>15.430498</td>\n",
       "      <td>3.984029</td>\n",
       "      <td>8.204331</td>\n",
       "      <td>0.332423</td>\n",
       "      <td>6.988815</td>\n",
       "      <td>66</td>\n",
       "      <td>75.530303</td>\n",
       "      <td>1916.893939</td>\n",
       "    </tr>\n",
       "    <tr>\n",
       "      <th>1</th>\n",
       "      <td>0</td>\n",
       "      <td>21591</td>\n",
       "      <td>1179</td>\n",
       "      <td>228</td>\n",
       "      <td>90.456506</td>\n",
       "      <td>25.798292</td>\n",
       "      <td>5.709329</td>\n",
       "      <td>1.111159</td>\n",
       "      <td>5.176620</td>\n",
       "      <td>369</td>\n",
       "      <td>...</td>\n",
       "      <td>848</td>\n",
       "      <td>1610</td>\n",
       "      <td>40.495021</td>\n",
       "      <td>8.943607</td>\n",
       "      <td>3.227677</td>\n",
       "      <td>0.564343</td>\n",
       "      <td>1.070321</td>\n",
       "      <td>163</td>\n",
       "      <td>132.030675</td>\n",
       "      <td>2931.515337</td>\n",
       "    </tr>\n",
       "    <tr>\n",
       "      <th>2</th>\n",
       "      <td>0</td>\n",
       "      <td>7310</td>\n",
       "      <td>1215</td>\n",
       "      <td>101</td>\n",
       "      <td>25.503644</td>\n",
       "      <td>9.556347</td>\n",
       "      <td>5.361519</td>\n",
       "      <td>0.591206</td>\n",
       "      <td>3.589718</td>\n",
       "      <td>95</td>\n",
       "      <td>...</td>\n",
       "      <td>482</td>\n",
       "      <td>206</td>\n",
       "      <td>0.734696</td>\n",
       "      <td>0.354379</td>\n",
       "      <td>0.603202</td>\n",
       "      <td>0.100503</td>\n",
       "      <td>0.603202</td>\n",
       "      <td>3</td>\n",
       "      <td>10.333333</td>\n",
       "      <td>277.333333</td>\n",
       "    </tr>\n",
       "    <tr>\n",
       "      <th>3</th>\n",
       "      <td>0</td>\n",
       "      <td>20</td>\n",
       "      <td>7</td>\n",
       "      <td>2</td>\n",
       "      <td>7.690824</td>\n",
       "      <td>0.277306</td>\n",
       "      <td>1.331508</td>\n",
       "      <td>0.100503</td>\n",
       "      <td>2.830627</td>\n",
       "      <td>6</td>\n",
       "      <td>...</td>\n",
       "      <td>17637</td>\n",
       "      <td>278</td>\n",
       "      <td>572.874856</td>\n",
       "      <td>390.293681</td>\n",
       "      <td>27.552040</td>\n",
       "      <td>7.167557</td>\n",
       "      <td>32.101906</td>\n",
       "      <td>1762</td>\n",
       "      <td>23.469296</td>\n",
       "      <td>1395.845634</td>\n",
       "    </tr>\n",
       "    <tr>\n",
       "      <th>4</th>\n",
       "      <td>1</td>\n",
       "      <td>45589</td>\n",
       "      <td>862</td>\n",
       "      <td>2641</td>\n",
       "      <td>148.854279</td>\n",
       "      <td>36.998884</td>\n",
       "      <td>27.881768</td>\n",
       "      <td>3.333492</td>\n",
       "      <td>23.861282</td>\n",
       "      <td>551</td>\n",
       "      <td>...</td>\n",
       "      <td>1711</td>\n",
       "      <td>181</td>\n",
       "      <td>21.601866</td>\n",
       "      <td>3.581661</td>\n",
       "      <td>6.764657</td>\n",
       "      <td>1.119727</td>\n",
       "      <td>4.563246</td>\n",
       "      <td>85</td>\n",
       "      <td>48.500000</td>\n",
       "      <td>1993.627907</td>\n",
       "    </tr>\n",
       "    <tr>\n",
       "      <th>...</th>\n",
       "      <td>...</td>\n",
       "      <td>...</td>\n",
       "      <td>...</td>\n",
       "      <td>...</td>\n",
       "      <td>...</td>\n",
       "      <td>...</td>\n",
       "      <td>...</td>\n",
       "      <td>...</td>\n",
       "      <td>...</td>\n",
       "      <td>...</td>\n",
       "      <td>...</td>\n",
       "      <td>...</td>\n",
       "      <td>...</td>\n",
       "      <td>...</td>\n",
       "      <td>...</td>\n",
       "      <td>...</td>\n",
       "      <td>...</td>\n",
       "      <td>...</td>\n",
       "      <td>...</td>\n",
       "      <td>...</td>\n",
       "      <td>...</td>\n",
       "    </tr>\n",
       "    <tr>\n",
       "      <th>5495</th>\n",
       "      <td>0</td>\n",
       "      <td>41765</td>\n",
       "      <td>185</td>\n",
       "      <td>1356</td>\n",
       "      <td>1529.643058</td>\n",
       "      <td>282.858500</td>\n",
       "      <td>76.809514</td>\n",
       "      <td>5.392171</td>\n",
       "      <td>104.438625</td>\n",
       "      <td>3307</td>\n",
       "      <td>...</td>\n",
       "      <td>1370</td>\n",
       "      <td>15143</td>\n",
       "      <td>6881.482996</td>\n",
       "      <td>5013.642295</td>\n",
       "      <td>22.683131</td>\n",
       "      <td>2.385538</td>\n",
       "      <td>18.420981</td>\n",
       "      <td>23958</td>\n",
       "      <td>21.324988</td>\n",
       "      <td>1413.825398</td>\n",
       "    </tr>\n",
       "    <tr>\n",
       "      <th>5496</th>\n",
       "      <td>1</td>\n",
       "      <td>112</td>\n",
       "      <td>243</td>\n",
       "      <td>5</td>\n",
       "      <td>1.445174</td>\n",
       "      <td>0.100503</td>\n",
       "      <td>0.100503</td>\n",
       "      <td>0.100503</td>\n",
       "      <td>0.603177</td>\n",
       "      <td>5</td>\n",
       "      <td>...</td>\n",
       "      <td>479</td>\n",
       "      <td>8</td>\n",
       "      <td>0.306073</td>\n",
       "      <td>0.306073</td>\n",
       "      <td>0.100503</td>\n",
       "      <td>0.100503</td>\n",
       "      <td>1.621981</td>\n",
       "      <td>1</td>\n",
       "      <td>49.000000</td>\n",
       "      <td>4969.000000</td>\n",
       "    </tr>\n",
       "    <tr>\n",
       "      <th>5497</th>\n",
       "      <td>0</td>\n",
       "      <td>15385</td>\n",
       "      <td>673</td>\n",
       "      <td>747</td>\n",
       "      <td>55.993546</td>\n",
       "      <td>22.321945</td>\n",
       "      <td>6.946233</td>\n",
       "      <td>0.341936</td>\n",
       "      <td>6.503977</td>\n",
       "      <td>202</td>\n",
       "      <td>...</td>\n",
       "      <td>1711</td>\n",
       "      <td>181</td>\n",
       "      <td>21.601866</td>\n",
       "      <td>3.581661</td>\n",
       "      <td>6.764657</td>\n",
       "      <td>1.119727</td>\n",
       "      <td>4.563246</td>\n",
       "      <td>85</td>\n",
       "      <td>48.500000</td>\n",
       "      <td>1993.627907</td>\n",
       "    </tr>\n",
       "    <tr>\n",
       "      <th>5498</th>\n",
       "      <td>0</td>\n",
       "      <td>265258</td>\n",
       "      <td>209</td>\n",
       "      <td>551</td>\n",
       "      <td>631.915946</td>\n",
       "      <td>457.648550</td>\n",
       "      <td>5.460985</td>\n",
       "      <td>0.100503</td>\n",
       "      <td>7.498126</td>\n",
       "      <td>2603</td>\n",
       "      <td>...</td>\n",
       "      <td>37601</td>\n",
       "      <td>22232</td>\n",
       "      <td>176.533716</td>\n",
       "      <td>42.330221</td>\n",
       "      <td>6.849227</td>\n",
       "      <td>1.345073</td>\n",
       "      <td>4.359865</td>\n",
       "      <td>696</td>\n",
       "      <td>234.338068</td>\n",
       "      <td>7168.464489</td>\n",
       "    </tr>\n",
       "    <tr>\n",
       "      <th>5499</th>\n",
       "      <td>0</td>\n",
       "      <td>628</td>\n",
       "      <td>921</td>\n",
       "      <td>6</td>\n",
       "      <td>3.943848</td>\n",
       "      <td>0.618590</td>\n",
       "      <td>4.769930</td>\n",
       "      <td>0.870136</td>\n",
       "      <td>2.953237</td>\n",
       "      <td>8</td>\n",
       "      <td>...</td>\n",
       "      <td>3109</td>\n",
       "      <td>12772</td>\n",
       "      <td>311.800311</td>\n",
       "      <td>142.633229</td>\n",
       "      <td>4.486090</td>\n",
       "      <td>1.049408</td>\n",
       "      <td>4.806823</td>\n",
       "      <td>1280</td>\n",
       "      <td>48.532819</td>\n",
       "      <td>1554.489575</td>\n",
       "    </tr>\n",
       "  </tbody>\n",
       "</table>\n",
       "<p>5500 rows × 23 columns</p>\n",
       "</div>"
      ],
      "text/plain": [
       "      Choice  A_follower_count  A_following_count  A_listed_count  \\\n",
       "0          0               228                302               3   \n",
       "1          0             21591               1179             228   \n",
       "2          0              7310               1215             101   \n",
       "3          0                20                  7               2   \n",
       "4          1             45589                862            2641   \n",
       "...      ...               ...                ...             ...   \n",
       "5495       0             41765                185            1356   \n",
       "5496       1               112                243               5   \n",
       "5497       0             15385                673             747   \n",
       "5498       0            265258                209             551   \n",
       "5499       0               628                921               6   \n",
       "\n",
       "      A_mentions_received  A_retweets_received  A_mentions_sent  \\\n",
       "0                0.583979             0.100503         0.100503   \n",
       "1               90.456506            25.798292         5.709329   \n",
       "2               25.503644             9.556347         5.361519   \n",
       "3                7.690824             0.277306         1.331508   \n",
       "4              148.854279            36.998884        27.881768   \n",
       "...                   ...                  ...              ...   \n",
       "5495          1529.643058           282.858500        76.809514   \n",
       "5496             1.445174             0.100503         0.100503   \n",
       "5497            55.993546            22.321945         6.946233   \n",
       "5498           631.915946           457.648550         5.460985   \n",
       "5499             3.943848             0.618590         4.769930   \n",
       "\n",
       "      A_retweets_sent     A_posts  A_network_feature_1  ...  \\\n",
       "0            0.100503    0.362150                    2  ...   \n",
       "1            1.111159    5.176620                  369  ...   \n",
       "2            0.591206    3.589718                   95  ...   \n",
       "3            0.100503    2.830627                    6  ...   \n",
       "4            3.333492   23.861282                  551  ...   \n",
       "...               ...         ...                  ...  ...   \n",
       "5495         5.392171  104.438625                 3307  ...   \n",
       "5496         0.100503    0.603177                    5  ...   \n",
       "5497         0.341936    6.503977                  202  ...   \n",
       "5498         0.100503    7.498126                 2603  ...   \n",
       "5499         0.870136    2.953237                    8  ...   \n",
       "\n",
       "      B_following_count  B_listed_count  B_mentions_received  \\\n",
       "0                 29808            1689            15.430498   \n",
       "1                   848            1610            40.495021   \n",
       "2                   482             206             0.734696   \n",
       "3                 17637             278           572.874856   \n",
       "4                  1711             181            21.601866   \n",
       "...                 ...             ...                  ...   \n",
       "5495               1370           15143          6881.482996   \n",
       "5496                479               8             0.306073   \n",
       "5497               1711             181            21.601866   \n",
       "5498              37601           22232           176.533716   \n",
       "5499               3109           12772           311.800311   \n",
       "\n",
       "      B_retweets_received  B_mentions_sent  B_retweets_sent    B_posts  \\\n",
       "0                3.984029         8.204331         0.332423   6.988815   \n",
       "1                8.943607         3.227677         0.564343   1.070321   \n",
       "2                0.354379         0.603202         0.100503   0.603202   \n",
       "3              390.293681        27.552040         7.167557  32.101906   \n",
       "4                3.581661         6.764657         1.119727   4.563246   \n",
       "...                   ...              ...              ...        ...   \n",
       "5495          5013.642295        22.683131         2.385538  18.420981   \n",
       "5496             0.306073         0.100503         0.100503   1.621981   \n",
       "5497             3.581661         6.764657         1.119727   4.563246   \n",
       "5498            42.330221         6.849227         1.345073   4.359865   \n",
       "5499           142.633229         4.486090         1.049408   4.806823   \n",
       "\n",
       "      B_network_feature_1  B_network_feature_2  B_network_feature_3  \n",
       "0                      66            75.530303          1916.893939  \n",
       "1                     163           132.030675          2931.515337  \n",
       "2                       3            10.333333           277.333333  \n",
       "3                    1762            23.469296          1395.845634  \n",
       "4                      85            48.500000          1993.627907  \n",
       "...                   ...                  ...                  ...  \n",
       "5495                23958            21.324988          1413.825398  \n",
       "5496                    1            49.000000          4969.000000  \n",
       "5497                   85            48.500000          1993.627907  \n",
       "5498                  696           234.338068          7168.464489  \n",
       "5499                 1280            48.532819          1554.489575  \n",
       "\n",
       "[5500 rows x 23 columns]"
      ]
     },
     "execution_count": 50,
     "metadata": {},
     "output_type": "execute_result"
    }
   ],
   "source": [
    "# Load the training data so we can start poking around.\n",
    "# A full print-out is fine here (≈5.5 k rows × 23 cols) because \n",
    "# it helps spot anomalies before we dive into feature work.\n",
    "\n",
    "influence_df = pd.read_csv(\"train.csv\")   # Kaggle \"Influencers in Social Networks\" dataset\n",
    "\n",
    "influence_df    # Jupyter will render the entire DataFrame for a quick visual scan"
   ]
  },
  {
   "cell_type": "code",
   "execution_count": 51,
   "metadata": {},
   "outputs": [
    {
     "name": "stdout",
     "output_type": "stream",
     "text": [
      "<class 'pandas.core.frame.DataFrame'>\n",
      "RangeIndex: 5500 entries, 0 to 5499\n",
      "Data columns (total 23 columns):\n",
      " #   Column               Non-Null Count  Dtype  \n",
      "---  ------               --------------  -----  \n",
      " 0   Choice               5500 non-null   int64  \n",
      " 1   A_follower_count     5500 non-null   int64  \n",
      " 2   A_following_count    5500 non-null   int64  \n",
      " 3   A_listed_count       5500 non-null   int64  \n",
      " 4   A_mentions_received  5500 non-null   float64\n",
      " 5   A_retweets_received  5500 non-null   float64\n",
      " 6   A_mentions_sent      5500 non-null   float64\n",
      " 7   A_retweets_sent      5500 non-null   float64\n",
      " 8   A_posts              5500 non-null   float64\n",
      " 9   A_network_feature_1  5500 non-null   int64  \n",
      " 10  A_network_feature_2  5500 non-null   float64\n",
      " 11  A_network_feature_3  5500 non-null   float64\n",
      " 12  B_follower_count     5500 non-null   int64  \n",
      " 13  B_following_count    5500 non-null   int64  \n",
      " 14  B_listed_count       5500 non-null   int64  \n",
      " 15  B_mentions_received  5500 non-null   float64\n",
      " 16  B_retweets_received  5500 non-null   float64\n",
      " 17  B_mentions_sent      5500 non-null   float64\n",
      " 18  B_retweets_sent      5500 non-null   float64\n",
      " 19  B_posts              5500 non-null   float64\n",
      " 20  B_network_feature_1  5500 non-null   int64  \n",
      " 21  B_network_feature_2  5500 non-null   float64\n",
      " 22  B_network_feature_3  5500 non-null   float64\n",
      "dtypes: float64(14), int64(9)\n",
      "memory usage: 988.4 KB\n"
     ]
    }
   ],
   "source": [
    "# Check the basic schema and memory footprint.\n",
    "# .info() quickly confirms row-count, non-null counts, dtypes, and overall size.\n",
    "# It’s a cheap sanity step before we attempt any maths.\n",
    "\n",
    "influence_df.info()"
   ]
  },
  {
   "cell_type": "code",
   "execution_count": 52,
   "metadata": {},
   "outputs": [
    {
     "data": {
      "text/html": [
       "<div>\n",
       "<style scoped>\n",
       "    .dataframe tbody tr th:only-of-type {\n",
       "        vertical-align: middle;\n",
       "    }\n",
       "\n",
       "    .dataframe tbody tr th {\n",
       "        vertical-align: top;\n",
       "    }\n",
       "\n",
       "    .dataframe thead th {\n",
       "        text-align: right;\n",
       "    }\n",
       "</style>\n",
       "<table border=\"1\" class=\"dataframe\">\n",
       "  <thead>\n",
       "    <tr style=\"text-align: right;\">\n",
       "      <th></th>\n",
       "      <th>Choice</th>\n",
       "      <th>A_follower_count</th>\n",
       "      <th>A_following_count</th>\n",
       "      <th>A_listed_count</th>\n",
       "      <th>A_mentions_received</th>\n",
       "      <th>A_retweets_received</th>\n",
       "      <th>A_mentions_sent</th>\n",
       "      <th>A_retweets_sent</th>\n",
       "      <th>A_posts</th>\n",
       "      <th>A_network_feature_1</th>\n",
       "      <th>...</th>\n",
       "      <th>B_following_count</th>\n",
       "      <th>B_listed_count</th>\n",
       "      <th>B_mentions_received</th>\n",
       "      <th>B_retweets_received</th>\n",
       "      <th>B_mentions_sent</th>\n",
       "      <th>B_retweets_sent</th>\n",
       "      <th>B_posts</th>\n",
       "      <th>B_network_feature_1</th>\n",
       "      <th>B_network_feature_2</th>\n",
       "      <th>B_network_feature_3</th>\n",
       "    </tr>\n",
       "  </thead>\n",
       "  <tbody>\n",
       "    <tr>\n",
       "      <th>count</th>\n",
       "      <td>5500.000000</td>\n",
       "      <td>5.500000e+03</td>\n",
       "      <td>5.500000e+03</td>\n",
       "      <td>5500.000000</td>\n",
       "      <td>5.500000e+03</td>\n",
       "      <td>5500.000000</td>\n",
       "      <td>5500.000000</td>\n",
       "      <td>5500.000000</td>\n",
       "      <td>5500.000000</td>\n",
       "      <td>5500.000000</td>\n",
       "      <td>...</td>\n",
       "      <td>5500.000000</td>\n",
       "      <td>5500.000000</td>\n",
       "      <td>5.500000e+03</td>\n",
       "      <td>5500.000000</td>\n",
       "      <td>5500.000000</td>\n",
       "      <td>5500.000000</td>\n",
       "      <td>5500.000000</td>\n",
       "      <td>5500.000000</td>\n",
       "      <td>5500.000000</td>\n",
       "      <td>5500.000000</td>\n",
       "    </tr>\n",
       "    <tr>\n",
       "      <th>mean</th>\n",
       "      <td>0.509455</td>\n",
       "      <td>6.498840e+05</td>\n",
       "      <td>1.265895e+04</td>\n",
       "      <td>5952.453273</td>\n",
       "      <td>2.666032e+03</td>\n",
       "      <td>1032.371839</td>\n",
       "      <td>6.011873</td>\n",
       "      <td>1.109924</td>\n",
       "      <td>9.090730</td>\n",
       "      <td>5267.768000</td>\n",
       "      <td>...</td>\n",
       "      <td>12738.259818</td>\n",
       "      <td>5903.148364</td>\n",
       "      <td>2.554598e+03</td>\n",
       "      <td>997.149954</td>\n",
       "      <td>6.099658</td>\n",
       "      <td>1.106236</td>\n",
       "      <td>9.505821</td>\n",
       "      <td>5254.933636</td>\n",
       "      <td>85.024196</td>\n",
       "      <td>3745.175480</td>\n",
       "    </tr>\n",
       "    <tr>\n",
       "      <th>std</th>\n",
       "      <td>0.499956</td>\n",
       "      <td>2.028787e+06</td>\n",
       "      <td>4.900867e+04</td>\n",
       "      <td>17339.141191</td>\n",
       "      <td>2.916543e+04</td>\n",
       "      <td>10954.953223</td>\n",
       "      <td>9.519797</td>\n",
       "      <td>1.910104</td>\n",
       "      <td>18.311060</td>\n",
       "      <td>28946.777345</td>\n",
       "      <td>...</td>\n",
       "      <td>50054.520874</td>\n",
       "      <td>16298.462018</td>\n",
       "      <td>2.508873e+04</td>\n",
       "      <td>9342.006880</td>\n",
       "      <td>9.729557</td>\n",
       "      <td>1.939914</td>\n",
       "      <td>19.424680</td>\n",
       "      <td>26778.820125</td>\n",
       "      <td>106.689384</td>\n",
       "      <td>5518.399590</td>\n",
       "    </tr>\n",
       "    <tr>\n",
       "      <th>min</th>\n",
       "      <td>0.000000</td>\n",
       "      <td>1.600000e+01</td>\n",
       "      <td>0.000000e+00</td>\n",
       "      <td>0.000000</td>\n",
       "      <td>1.005034e-01</td>\n",
       "      <td>0.100503</td>\n",
       "      <td>0.100503</td>\n",
       "      <td>0.100503</td>\n",
       "      <td>0.100503</td>\n",
       "      <td>0.000000</td>\n",
       "      <td>...</td>\n",
       "      <td>0.000000</td>\n",
       "      <td>0.000000</td>\n",
       "      <td>1.005034e-01</td>\n",
       "      <td>0.100503</td>\n",
       "      <td>0.100503</td>\n",
       "      <td>0.100503</td>\n",
       "      <td>0.100503</td>\n",
       "      <td>0.000000</td>\n",
       "      <td>0.000000</td>\n",
       "      <td>0.000000</td>\n",
       "    </tr>\n",
       "    <tr>\n",
       "      <th>25%</th>\n",
       "      <td>0.000000</td>\n",
       "      <td>2.663750e+03</td>\n",
       "      <td>3.220000e+02</td>\n",
       "      <td>85.000000</td>\n",
       "      <td>3.453649e+00</td>\n",
       "      <td>0.716816</td>\n",
       "      <td>0.359534</td>\n",
       "      <td>0.100503</td>\n",
       "      <td>0.632440</td>\n",
       "      <td>12.000000</td>\n",
       "      <td>...</td>\n",
       "      <td>322.000000</td>\n",
       "      <td>75.000000</td>\n",
       "      <td>3.260473e+00</td>\n",
       "      <td>0.714556</td>\n",
       "      <td>0.356943</td>\n",
       "      <td>0.100503</td>\n",
       "      <td>0.822584</td>\n",
       "      <td>11.000000</td>\n",
       "      <td>15.176568</td>\n",
       "      <td>1206.500000</td>\n",
       "    </tr>\n",
       "    <tr>\n",
       "      <th>50%</th>\n",
       "      <td>1.000000</td>\n",
       "      <td>4.558900e+04</td>\n",
       "      <td>7.780000e+02</td>\n",
       "      <td>932.000000</td>\n",
       "      <td>4.876542e+01</td>\n",
       "      <td>14.029113</td>\n",
       "      <td>2.299666</td>\n",
       "      <td>0.341936</td>\n",
       "      <td>3.555194</td>\n",
       "      <td>195.000000</td>\n",
       "      <td>...</td>\n",
       "      <td>773.000000</td>\n",
       "      <td>890.000000</td>\n",
       "      <td>4.876542e+01</td>\n",
       "      <td>14.029113</td>\n",
       "      <td>2.251398</td>\n",
       "      <td>0.341936</td>\n",
       "      <td>3.342999</td>\n",
       "      <td>190.000000</td>\n",
       "      <td>54.925234</td>\n",
       "      <td>2206.420734</td>\n",
       "    </tr>\n",
       "    <tr>\n",
       "      <th>75%</th>\n",
       "      <td>1.000000</td>\n",
       "      <td>3.927380e+05</td>\n",
       "      <td>2.838000e+03</td>\n",
       "      <td>6734.000000</td>\n",
       "      <td>3.498196e+02</td>\n",
       "      <td>118.704407</td>\n",
       "      <td>7.198330</td>\n",
       "      <td>1.320681</td>\n",
       "      <td>10.691878</td>\n",
       "      <td>1323.000000</td>\n",
       "      <td>...</td>\n",
       "      <td>2838.000000</td>\n",
       "      <td>6734.000000</td>\n",
       "      <td>3.743699e+02</td>\n",
       "      <td>107.081021</td>\n",
       "      <td>6.866840</td>\n",
       "      <td>1.320681</td>\n",
       "      <td>10.600502</td>\n",
       "      <td>1323.000000</td>\n",
       "      <td>112.191489</td>\n",
       "      <td>4349.908608</td>\n",
       "    </tr>\n",
       "    <tr>\n",
       "      <th>max</th>\n",
       "      <td>1.000000</td>\n",
       "      <td>3.654319e+07</td>\n",
       "      <td>1.165830e+06</td>\n",
       "      <td>549144.000000</td>\n",
       "      <td>1.145219e+06</td>\n",
       "      <td>435825.874241</td>\n",
       "      <td>76.809514</td>\n",
       "      <td>16.290540</td>\n",
       "      <td>193.072418</td>\n",
       "      <td>920838.000000</td>\n",
       "      <td>...</td>\n",
       "      <td>664324.000000</td>\n",
       "      <td>549144.000000</td>\n",
       "      <td>1.145219e+06</td>\n",
       "      <td>435825.874241</td>\n",
       "      <td>76.809514</td>\n",
       "      <td>16.290540</td>\n",
       "      <td>193.072418</td>\n",
       "      <td>920838.000000</td>\n",
       "      <td>1861.583333</td>\n",
       "      <td>75526.083333</td>\n",
       "    </tr>\n",
       "  </tbody>\n",
       "</table>\n",
       "<p>8 rows × 23 columns</p>\n",
       "</div>"
      ],
      "text/plain": [
       "            Choice  A_follower_count  A_following_count  A_listed_count  \\\n",
       "count  5500.000000      5.500000e+03       5.500000e+03     5500.000000   \n",
       "mean      0.509455      6.498840e+05       1.265895e+04     5952.453273   \n",
       "std       0.499956      2.028787e+06       4.900867e+04    17339.141191   \n",
       "min       0.000000      1.600000e+01       0.000000e+00        0.000000   \n",
       "25%       0.000000      2.663750e+03       3.220000e+02       85.000000   \n",
       "50%       1.000000      4.558900e+04       7.780000e+02      932.000000   \n",
       "75%       1.000000      3.927380e+05       2.838000e+03     6734.000000   \n",
       "max       1.000000      3.654319e+07       1.165830e+06   549144.000000   \n",
       "\n",
       "       A_mentions_received  A_retweets_received  A_mentions_sent  \\\n",
       "count         5.500000e+03          5500.000000      5500.000000   \n",
       "mean          2.666032e+03          1032.371839         6.011873   \n",
       "std           2.916543e+04         10954.953223         9.519797   \n",
       "min           1.005034e-01             0.100503         0.100503   \n",
       "25%           3.453649e+00             0.716816         0.359534   \n",
       "50%           4.876542e+01            14.029113         2.299666   \n",
       "75%           3.498196e+02           118.704407         7.198330   \n",
       "max           1.145219e+06        435825.874241        76.809514   \n",
       "\n",
       "       A_retweets_sent      A_posts  A_network_feature_1  ...  \\\n",
       "count      5500.000000  5500.000000          5500.000000  ...   \n",
       "mean          1.109924     9.090730          5267.768000  ...   \n",
       "std           1.910104    18.311060         28946.777345  ...   \n",
       "min           0.100503     0.100503             0.000000  ...   \n",
       "25%           0.100503     0.632440            12.000000  ...   \n",
       "50%           0.341936     3.555194           195.000000  ...   \n",
       "75%           1.320681    10.691878          1323.000000  ...   \n",
       "max          16.290540   193.072418        920838.000000  ...   \n",
       "\n",
       "       B_following_count  B_listed_count  B_mentions_received  \\\n",
       "count        5500.000000     5500.000000         5.500000e+03   \n",
       "mean        12738.259818     5903.148364         2.554598e+03   \n",
       "std         50054.520874    16298.462018         2.508873e+04   \n",
       "min             0.000000        0.000000         1.005034e-01   \n",
       "25%           322.000000       75.000000         3.260473e+00   \n",
       "50%           773.000000      890.000000         4.876542e+01   \n",
       "75%          2838.000000     6734.000000         3.743699e+02   \n",
       "max        664324.000000   549144.000000         1.145219e+06   \n",
       "\n",
       "       B_retweets_received  B_mentions_sent  B_retweets_sent      B_posts  \\\n",
       "count          5500.000000      5500.000000      5500.000000  5500.000000   \n",
       "mean            997.149954         6.099658         1.106236     9.505821   \n",
       "std            9342.006880         9.729557         1.939914    19.424680   \n",
       "min               0.100503         0.100503         0.100503     0.100503   \n",
       "25%               0.714556         0.356943         0.100503     0.822584   \n",
       "50%              14.029113         2.251398         0.341936     3.342999   \n",
       "75%             107.081021         6.866840         1.320681    10.600502   \n",
       "max          435825.874241        76.809514        16.290540   193.072418   \n",
       "\n",
       "       B_network_feature_1  B_network_feature_2  B_network_feature_3  \n",
       "count          5500.000000          5500.000000          5500.000000  \n",
       "mean           5254.933636            85.024196          3745.175480  \n",
       "std           26778.820125           106.689384          5518.399590  \n",
       "min               0.000000             0.000000             0.000000  \n",
       "25%              11.000000            15.176568          1206.500000  \n",
       "50%             190.000000            54.925234          2206.420734  \n",
       "75%            1323.000000           112.191489          4349.908608  \n",
       "max          920838.000000          1861.583333         75526.083333  \n",
       "\n",
       "[8 rows x 23 columns]"
      ]
     },
     "execution_count": 52,
     "metadata": {},
     "output_type": "execute_result"
    }
   ],
   "source": [
    "# Glance at distributional stats for every numeric column.\n",
    "# .describe() gives count / mean / std / min / quartiles / max and\n",
    "# helps spot outliers or suspicious zeros before building models.\n",
    "\n",
    "influence_df.describe()"
   ]
  },
  {
   "cell_type": "code",
   "execution_count": 53,
   "metadata": {},
   "outputs": [
    {
     "name": "stdout",
     "output_type": "stream",
     "text": [
      "Are there any missing values in the dataset? False\n"
     ]
    }
   ],
   "source": [
    "# Basic completeness check – are there any NaNs lurking?\n",
    "# A quick Boolean scan keeps us honest before we dive into modelling.\n",
    "\n",
    "print(\"Are there any missing values in the dataset?\", influence_df.isnull().values.any())"
   ]
  },
  {
   "cell_type": "markdown",
   "metadata": {},
   "source": [
    "#### **3.3 Pearson Heat-Maps to Spot Multicollinearity**"
   ]
  },
  {
   "cell_type": "code",
   "execution_count": 54,
   "metadata": {},
   "outputs": [
    {
     "data": {
      "image/png": "[encoded data removed]",
      "text/plain": [
       "<Figure size 640x480 with 2 Axes>"
      ]
     },
     "metadata": {},
     "output_type": "display_data"
    }
   ],
   "source": [
    "# Quick correlation audit (User-A features only)\n",
    "# We slice columns 1-11 (follower count through network_feature_3)  \n",
    "# and compute a Pearson matrix. A heat-map helps spot pairs that\n",
    "# move together - handy later when we decide which deltas to keep.\n",
    "\n",
    "corr_a = influence_df.iloc[:, 1:12].corr(method='pearson')   # A-side metrics\n",
    "\n",
    "ax = sns.heatmap(\n",
    "    corr_a,\n",
    "    vmin=-1, vmax=1, center=0,\n",
    "    cmap=sns.diverging_palette(20, 220, n=200),\n",
    "    square=True\n",
    ")\n",
    "\n",
    "# Tweak labels for readability inside the notebook\n",
    "ax.set_xticklabels(ax.get_xticklabels(), rotation=45, ha='right')\n",
    "ax.set_title(\"Pearson correlations – User A raw features\")\n",
    "plt.tight_layout()"
   ]
  },
  {
   "cell_type": "code",
   "execution_count": 55,
   "metadata": {},
   "outputs": [
    {
     "data": {
      "image/png": "[encoded data removed]",
      "text/plain": [
       "<Figure size 640x480 with 2 Axes>"
      ]
     },
     "metadata": {},
     "output_type": "display_data"
    }
   ],
   "source": [
    "# Correlation audit for User-B metrics\n",
    "\n",
    "# Repeat the exercise for columns 12-22 (the \"B_\" counterparts).\n",
    "# Large positive/negative blocks hint at redundant signals we\n",
    "# may drop once we transition to A-minus-B deltas.\n",
    "\n",
    "corr_b = influence_df.iloc[:, 12:23].corr(method='pearson')   # B-side metrics\n",
    "\n",
    "ax = sns.heatmap(\n",
    "    corr_b,\n",
    "    vmin=-1, vmax=1, center=0,\n",
    "    cmap=sns.diverging_palette(20, 220, n=200),\n",
    "    square=True\n",
    ")\n",
    "\n",
    "# Tweak labels for readability inside the notebook\n",
    "ax.set_xticklabels(ax.get_xticklabels(), rotation=45, ha='right')\n",
    "ax.set_title(\"Pearson correlations – User B raw features\")\n",
    "plt.tight_layout()"
   ]
  },
  {
   "cell_type": "markdown",
   "metadata": {},
   "source": [
    "### **4. Application of Machine Learning Models**\n",
    "\n",
    "This section of the feature prototype will go into detail when it comes to the application of Machine Learning Models in order to identify key predictors of social influence. \n",
    "\n",
    "As such, this section will look into preparing the dataset into testing and training data, while also applying the four baseline models (Logistic Regression, Random Forest, k-Nearest Neighbours and XGBoost.\n",
    "\n",
    "There is a 70/30 train-test split plus a 10-fold cross-validation upon the training set. \n",
    "\n",
    "Accuracy, Precision, Recall and F1-Scores are logged, alongside a confusion matrix for each run of the baseline models mentioned previously."
   ]
  },
  {
   "cell_type": "markdown",
   "metadata": {},
   "source": [
    "#### **4.1 Preparing the Dataset & Feature Construction - Dividing into Test Data and Train Data**"
   ]
  },
  {
   "cell_type": "code",
   "execution_count": 56,
   "metadata": {},
   "outputs": [],
   "source": [
    "# Split into features (x) and label (y)\n",
    "# Goal: create a single vector that captures *relative* influence.\n",
    "\n",
    "# Why this step?  \n",
    "#    The PeerIndex rows give *two* users side-by-side (A and B).  \n",
    "#    The competition label \"Choice\" is 1 when A is judged more\n",
    "#    influential than B, else 0.  \n",
    "#    Rather than feed raw A-and-B columns to a model, we follow the\n",
    "#    classic trick of SUBTRACTING B’s vector from A’s.  \n",
    "#        – Pros: single, compact feature vector; the model learns\n",
    "#          \"how much is A ahead?\" instead of memorising two slots.  \n",
    "#        – Cons: discards absolute scale, but for a head-to-head\n",
    "#          task that’s acceptable (and empirically works well).  \n",
    "#    Nine deltas are enough for a first-pass prototype; the three\n",
    "#    \"network_feature_*\" columns can join later if deeper graph work\n",
    "#    is needed.\n",
    "\n",
    "# Build design matrix: A – B across the 9 key numeric fields\n",
    "x = pd.DataFrame(\n",
    "    influence_df.iloc[:, 1:10].values -   # cols 1-9  → user-A metrics\n",
    "    influence_df.iloc[:, 10:19].values    # cols 10-18 → user-B metrics\n",
    ")\n",
    "\n",
    "# Label the columns so later plots / importances are readable\n",
    "x.columns = [\n",
    "    'A/B_follower_count',     \n",
    "    'A/B_following_count',     \n",
    "    'A/B_listed_count',        \n",
    "    'A/B_retweets_received',  \n",
    "    'A/B_mentions_sent',       \n",
    "    'A/B_retweets_sent',       \n",
    "    'A/B_posts',               \n",
    "    'A/B_network_feature_2',   \n",
    "    'A/B_network_feature_3'    \n",
    "]\n",
    "\n",
    "# Target vector: 1 --> A beats B, 0 --> otherwise\n",
    "y = influence_df['Choice']"
   ]
  },
  {
   "cell_type": "code",
   "execution_count": 57,
   "metadata": {},
   "outputs": [],
   "source": [
    "# Train–test split\n",
    "# We set aside 30 % of the pairs for unseen evaluation while the\n",
    "# remaining 70 % feed the training/​cross-validation loop.\n",
    "#  test_size = 0.30  -->  70/30 split (common rule-of-thumb)\n",
    "#  random_state = 42 -->  reproducible shuffle for peer review\n",
    "\n",
    "from sklearn.model_selection import train_test_split\n",
    "\n",
    "x_train, x_test, y_train, y_test = train_test_split(\n",
    "    x, y,\n",
    "    test_size=0.30,\n",
    "    random_state=42\n",
    ")"
   ]
  },
  {
   "cell_type": "code",
   "execution_count": 58,
   "metadata": {},
   "outputs": [
    {
     "name": "stdout",
     "output_type": "stream",
     "text": [
      "X_train shape: (3850, 9)\n",
      "y_train shape: (3850,)\n",
      "X_test  shape: (1650, 9)\n",
      "y_test  shape: (1650,)\n"
     ]
    }
   ],
   "source": [
    "# Quick sanity-check performed on the split\n",
    "# Always confirm that:\n",
    "#   1)  x_train / x_test keep the same column count\n",
    "#   2)  y vectors line up row-for-row with their feature blocks\n",
    "# This printout is a zero-cost guardrail before we dive into modelling.\n",
    "\n",
    "print('X_train shape:', x_train.shape)   \n",
    "print('y_train shape:', y_train.shape)\n",
    "print('X_test  shape:', x_test.shape)\n",
    "print('y_test  shape:', y_test.shape)"
   ]
  },
  {
   "cell_type": "markdown",
   "metadata": {},
   "source": [
    "#### **4.2 Spot Check Algorithms & Modelling**"
   ]
  },
  {
   "cell_type": "code",
   "execution_count": 59,
   "metadata": {},
   "outputs": [
    {
     "name": "stdout",
     "output_type": "stream",
     "text": [
      "LR  : 0.7086  (+/- 0.0141)\n",
      "KNN : 0.7379  (+/- 0.0163)\n",
      "CART: 0.7036  (+/- 0.0284)\n",
      "RF  : 0.7649  (+/- 0.0196)\n",
      "NB  : 0.5473  (+/- 0.0132)\n",
      "SVM : 0.5231  (+/- 0.0070)\n",
      "XGB : 0.7522  (+/- 0.0168)\n"
     ]
    }
   ],
   "source": [
    "# Baseline \"spot-check\" – throw a handful of classic learners\n",
    "# at the data to see which family looks most promising.\n",
    "\n",
    "# Rationale:\n",
    "#   1) Gives a quick accuracy yard-stick before we spend time on\n",
    "#   feature tuning or heavy models.  \n",
    "#   2) Diversity: linear (LR), distance (KNN), tree-based (CART / RF), \n",
    "#   probabilistic (Naïve Bayes), margin-based (SVM) and \n",
    "#   gradient-boosted (XGBoost).  \n",
    "#   3) Uses stratified 10-fold CV so class balance is preserved in\n",
    "#   every fold – essential when the target is ~50/50.\n",
    "\n",
    "# Tree / ensemble learners\n",
    "from sklearn.tree import DecisionTreeClassifier\n",
    "from sklearn.ensemble import RandomForestClassifier\n",
    "\n",
    "# Linear & margin-based learners\n",
    "from sklearn.linear_model import LogisticRegression\n",
    "from sklearn.svm import SVC\n",
    "\n",
    "# Instance & probabilistic learners\n",
    "from sklearn.neighbors import KNeighborsClassifier\n",
    "from sklearn.naive_bayes import GaussianNB\n",
    "\n",
    "# Gradient boosting\n",
    "from xgboost import XGBClassifier  # external lib but GPU-free for small data\n",
    "\n",
    "# Cross-validation helpers\n",
    "from sklearn.model_selection import StratifiedKFold, cross_val_score\n",
    "\n",
    "# Bundle (name, instantiated model) tuples into a list for easy looping\n",
    "baseline_models = [\n",
    "    ('LR',       LogisticRegression(solver='liblinear', multi_class='ovr')),\n",
    "    ('KNN',      KNeighborsClassifier()),\n",
    "    ('CART',     DecisionTreeClassifier()),\n",
    "    ('RF',       RandomForestClassifier()),\n",
    "    ('NB',       GaussianNB()),\n",
    "    ('SVM',      SVC(gamma='auto')),\n",
    "    ('XGB',      XGBClassifier())\n",
    "]\n",
    "\n",
    "cv_results, model_names = [], []\n",
    "\n",
    "for label, clf in baseline_models:\n",
    "    # 10-fold stratified CV – shuffles data yet keeps the Choice ratio stable\n",
    "    skf = StratifiedKFold(n_splits=10, shuffle=True, random_state=1)\n",
    "    scores = cross_val_score(clf, x_train, y_train, cv=skf, scoring='accuracy')\n",
    "    \n",
    "    cv_results.append(scores)\n",
    "    model_names.append(label)\n",
    "    \n",
    "    print(f'{label:4s}: {scores.mean():.4f}  (+/- {scores.std():.4f})')"
   ]
  },
  {
   "cell_type": "markdown",
   "metadata": {},
   "source": [
    "#### **4.3 Logistic Regression & Logit for Model Improvement**"
   ]
  },
  {
   "cell_type": "code",
   "execution_count": 60,
   "metadata": {},
   "outputs": [
    {
     "name": "stdout",
     "output_type": "stream",
     "text": [
      "Selected flags : [ True  True  True  True  True  True  True  True  True]\n",
      "Rank ordering : [1 1 1 1 1 1 1 1 1]\n"
     ]
    },
    {
     "data": {
      "text/html": [
       "<style>#sk-container-id-2 {color: black;background-color: white;}#sk-container-id-2 pre{padding: 0;}#sk-container-id-2 div.sk-toggleable {background-color: white;}#sk-container-id-2 label.sk-toggleable__label {cursor: pointer;display: block;width: 100%;margin-bottom: 0;padding: 0.3em;box-sizing: border-box;text-align: center;}#sk-container-id-2 label.sk-toggleable__label-arrow:before {content: \"▸\";float: left;margin-right: 0.25em;color: #696969;}#sk-container-id-2 label.sk-toggleable__label-arrow:hover:before {color: black;}#sk-container-id-2 div.sk-estimator:hover label.sk-toggleable__label-arrow:before {color: black;}#sk-container-id-2 div.sk-toggleable__content {max-height: 0;max-width: 0;overflow: hidden;text-align: left;background-color: #f0f8ff;}#sk-container-id-2 div.sk-toggleable__content pre {margin: 0.2em;color: black;border-radius: 0.25em;background-color: #f0f8ff;}#sk-container-id-2 input.sk-toggleable__control:checked~div.sk-toggleable__content {max-height: 200px;max-width: 100%;overflow: auto;}#sk-container-id-2 input.sk-toggleable__control:checked~label.sk-toggleable__label-arrow:before {content: \"▾\";}#sk-container-id-2 div.sk-estimator input.sk-toggleable__control:checked~label.sk-toggleable__label {background-color: #d4ebff;}#sk-container-id-2 div.sk-label input.sk-toggleable__control:checked~label.sk-toggleable__label {background-color: #d4ebff;}#sk-container-id-2 input.sk-hidden--visually {border: 0;clip: rect(1px 1px 1px 1px);clip: rect(1px, 1px, 1px, 1px);height: 1px;margin: -1px;overflow: hidden;padding: 0;position: absolute;width: 1px;}#sk-container-id-2 div.sk-estimator {font-family: monospace;background-color: #f0f8ff;border: 1px dotted black;border-radius: 0.25em;box-sizing: border-box;margin-bottom: 0.5em;}#sk-container-id-2 div.sk-estimator:hover {background-color: #d4ebff;}#sk-container-id-2 div.sk-parallel-item::after {content: \"\";width: 100%;border-bottom: 1px solid gray;flex-grow: 1;}#sk-container-id-2 div.sk-label:hover label.sk-toggleable__label {background-color: #d4ebff;}#sk-container-id-2 div.sk-serial::before {content: \"\";position: absolute;border-left: 1px solid gray;box-sizing: border-box;top: 0;bottom: 0;left: 50%;z-index: 0;}#sk-container-id-2 div.sk-serial {display: flex;flex-direction: column;align-items: center;background-color: white;padding-right: 0.2em;padding-left: 0.2em;position: relative;}#sk-container-id-2 div.sk-item {position: relative;z-index: 1;}#sk-container-id-2 div.sk-parallel {display: flex;align-items: stretch;justify-content: center;background-color: white;position: relative;}#sk-container-id-2 div.sk-item::before, #sk-container-id-2 div.sk-parallel-item::before {content: \"\";position: absolute;border-left: 1px solid gray;box-sizing: border-box;top: 0;bottom: 0;left: 50%;z-index: -1;}#sk-container-id-2 div.sk-parallel-item {display: flex;flex-direction: column;z-index: 1;position: relative;background-color: white;}#sk-container-id-2 div.sk-parallel-item:first-child::after {align-self: flex-end;width: 50%;}#sk-container-id-2 div.sk-parallel-item:last-child::after {align-self: flex-start;width: 50%;}#sk-container-id-2 div.sk-parallel-item:only-child::after {width: 0;}#sk-container-id-2 div.sk-dashed-wrapped {border: 1px dashed gray;margin: 0 0.4em 0.5em 0.4em;box-sizing: border-box;padding-bottom: 0.4em;background-color: white;}#sk-container-id-2 div.sk-label label {font-family: monospace;font-weight: bold;display: inline-block;line-height: 1.2em;}#sk-container-id-2 div.sk-label-container {text-align: center;}#sk-container-id-2 div.sk-container {/* jupyter's `normalize.less` sets `[hidden] { display: none; }` but bootstrap.min.css set `[hidden] { display: none !important; }` so we also need the `!important` here to be able to override the default hidden behavior on the sphinx rendered scikit-learn.org. See: https://github.com/scikit-learn/scikit-learn/issues/21755 */display: inline-block !important;position: relative;}#sk-container-id-2 div.sk-text-repr-fallback {display: none;}</style><div id=\"sk-container-id-2\" class=\"sk-top-container\"><div class=\"sk-text-repr-fallback\"><pre>LogisticRegression(max_iter=1000)</pre><b>In a Jupyter environment, please rerun this cell to show the HTML representation or trust the notebook. <br />On GitHub, the HTML representation is unable to render, please try loading this page with nbviewer.org.</b></div><div class=\"sk-container\" hidden><div class=\"sk-item\"><div class=\"sk-estimator sk-toggleable\"><input class=\"sk-toggleable__control sk-hidden--visually\" id=\"sk-estimator-id-2\" type=\"checkbox\" checked><label for=\"sk-estimator-id-2\" class=\"sk-toggleable__label sk-toggleable__label-arrow\">LogisticRegression</label><div class=\"sk-toggleable__content\"><pre>LogisticRegression(max_iter=1000)</pre></div></div></div></div></div>"
      ],
      "text/plain": [
       "LogisticRegression(max_iter=1000)"
      ]
     },
     "execution_count": 60,
     "metadata": {},
     "output_type": "execute_result"
    }
   ],
   "source": [
    "# Logistic Regression + Recursive Feature Elimination (RFE)\n",
    "# Purpose:\n",
    "#   Confirm how a simple linear model fares on the delta-features.  \n",
    "#   Let RFE rank features by iteratively dropping the weakest\n",
    "#     coefficients - a quick peek at which signals drive accuracy.\n",
    "\n",
    "from sklearn.linear_model import LogisticRegression\n",
    "from sklearn.feature_selection import RFE\n",
    "from sklearn.metrics import confusion_matrix, classification_report\n",
    "\n",
    "# Base learner - no hyper-tuning yet (keeps the \"yard-stick\" honest)\n",
    "log_clf = LogisticRegression(max_iter=1000)\n",
    "\n",
    "# Recursive Feature Elimination:\n",
    "#   step=1 by default --> remove one feature per round until the target\n",
    "#   number (here, all nine) remains, while scoring with the estimator.\n",
    "rfe = RFE(estimator=log_clf, n_features_to_select=9)\n",
    "rfe.fit(x_train, y_train.values.ravel())\n",
    "\n",
    "# Boolean mask: True means \"feature kept\" after elimination cycle\n",
    "print(\"Selected flags :\", rfe.support_)     # all True --> each passed the cut\n",
    "print(\"Rank ordering :\", rfe.ranking_)      # 1 == most important\n",
    "\n",
    "# Fit final Logistic Regression on the full training set\n",
    "log_clf.fit(x_train, y_train)"
   ]
  },
  {
   "cell_type": "code",
   "execution_count": 61,
   "metadata": {},
   "outputs": [
    {
     "name": "stdout",
     "output_type": "stream",
     "text": [
      "Optimization terminated successfully.\n",
      "         Current function value: 0.625624\n",
      "         Iterations 6\n",
      "                           Results: Logit\n",
      "=====================================================================\n",
      "Model:               Logit             Method:            MLE        \n",
      "Dependent Variable:  Choice            Pseudo R-squared:  0.097      \n",
      "Date:                2025-06-14 22:11  AIC:               6899.8665  \n",
      "No. Observations:    5500              BIC:               6959.3790  \n",
      "Df Model:            8                 Log-Likelihood:    -3440.9    \n",
      "Df Residuals:        5491              LL-Null:           -3811.3    \n",
      "Converged:           1.0000            LLR p-value:       1.1797e-154\n",
      "No. Iterations:      6.0000            Scale:             1.0000     \n",
      "---------------------------------------------------------------------\n",
      "                       Coef.  Std.Err.    z    P>|z|   [0.025  0.975]\n",
      "---------------------------------------------------------------------\n",
      "A/B_follower_count     0.0000   0.0000 11.5580 0.0000  0.0000  0.0000\n",
      "A/B_following_count    0.0000   0.0000  1.8642 0.0623 -0.0000  0.0000\n",
      "A/B_listed_count      -0.0000   0.0000 -0.2372 0.8125 -0.0000  0.0000\n",
      "A/B_retweets_received -0.0000   0.0000 -2.1213 0.0339 -0.0000 -0.0000\n",
      "A/B_mentions_sent      0.0001   0.0000 12.3501 0.0000  0.0001  0.0001\n",
      "A/B_retweets_sent      0.0000   0.0000  0.0345 0.9725 -0.0000  0.0000\n",
      "A/B_posts              0.0000   0.0000  0.6897 0.4904 -0.0000  0.0001\n",
      "A/B_network_feature_2  0.0190   0.0018 10.4503 0.0000  0.0155  0.0226\n",
      "A/B_network_feature_3 -0.0000   0.0000 -8.6146 0.0000 -0.0000 -0.0000\n",
      "=====================================================================\n",
      "\n"
     ]
    }
   ],
   "source": [
    "# Quick sanity-check with statsmodels:\n",
    "# We run a classic maximum-likelihood Logit to get coefficient\n",
    "# tables (p-values, standard errors) that scikit-learn doesn’t emit.\n",
    "\n",
    "import statsmodels.api as sm\n",
    "\n",
    "# statsmodels expects an \"array-like\" design matrix and target.\n",
    "# x  --> our feature DataFrame\n",
    "# y  --> 0/1 label indicating whether user-A outranks user-B\n",
    "logit = sm.Logit(y, x)\n",
    "\n",
    "logit_result = logit.fit()          # default Newton–Raphson optimiser\n",
    "print(logit_result.summary2())      # nicer compact table"
   ]
  },
  {
   "cell_type": "code",
   "execution_count": 62,
   "metadata": {},
   "outputs": [
    {
     "name": "stdout",
     "output_type": "stream",
     "text": [
      "Optimization terminated successfully.\n",
      "         Current function value: 0.618079\n",
      "         Iterations 6\n",
      "                           Results: Logit\n",
      "=====================================================================\n",
      "Model:               Logit             Method:            MLE        \n",
      "Dependent Variable:  Choice            Pseudo R-squared:  0.108      \n",
      "Date:                2025-06-14 22:13  AIC:               4769.2079  \n",
      "No. Observations:    3850              BIC:               4800.4870  \n",
      "Df Model:            4                 Log-Likelihood:    -2379.6    \n",
      "Df Residuals:        3845              LL-Null:           -2667.5    \n",
      "Converged:           1.0000            LLR p-value:       2.7700e-123\n",
      "No. Iterations:      6.0000            Scale:             1.0000     \n",
      "---------------------------------------------------------------------\n",
      "                       Coef.  Std.Err.    z    P>|z|   [0.025  0.975]\n",
      "---------------------------------------------------------------------\n",
      "A/B_follower_count     0.0000   0.0000 10.5261 0.0000  0.0000  0.0000\n",
      "A/B_retweets_received -0.0000   0.0000 -2.2968 0.0216 -0.0000 -0.0000\n",
      "A/B_mentions_sent      0.0001   0.0000 15.0594 0.0000  0.0001  0.0001\n",
      "A/B_network_feature_2  0.0220   0.0023  9.7371 0.0000  0.0176  0.0265\n",
      "A/B_network_feature_3 -0.0000   0.0000 -8.0290 0.0000 -0.0000 -0.0000\n",
      "=====================================================================\n",
      "\n"
     ]
    }
   ],
   "source": [
    "# Trim the design matrix to statistically significant predictors.\n",
    "# Guideline:\n",
    "#   – Keep variables whose two-tailed p-value in the previous\n",
    "#     statsmodels run was greater than or equal to 0.05.  \n",
    "#   – Reduces noise and multicollinearity; simplifies interpretation.\n",
    "\n",
    "cols_significant = [\n",
    "    'A/B_follower_count',\n",
    "    'A/B_retweets_received',\n",
    "    'A/B_mentions_sent',\n",
    "    'A/B_network_feature_2',\n",
    "    'A/B_network_feature_3'\n",
    "]\n",
    "\n",
    "# Slice the training frame down to just those columns\n",
    "x_sig = x_train[cols_significant]\n",
    "y_sig = y_train   # target unchanged\n",
    "\n",
    "# Re-fit the Logit model on the leaner feature set\n",
    "logit_sig = sm.Logit(y_sig, x_sig)\n",
    "logit_sig_result = logit_sig.fit()\n",
    "\n",
    "print(logit_sig_result.summary2())"
   ]
  },
  {
   "cell_type": "markdown",
   "metadata": {},
   "source": [
    "#### **4.4 Logistic Regression Model Fitting**"
   ]
  },
  {
   "cell_type": "code",
   "execution_count": 67,
   "metadata": {},
   "outputs": [],
   "source": [
    "#  Final-fit and prediction using the scikit-learn LogisticRegression\n",
    "#  (separate from the statsmodels diagnostic run above)\n",
    "\n",
    "# 1) Fit on the full training matrix\n",
    "log_clf.fit(x_train, y_train)\n",
    "\n",
    "# 2) Predict on the held-out 30 % test split\n",
    "y_pred = log_clf.predict(x_test)"
   ]
  },
  {
   "cell_type": "code",
   "execution_count": 68,
   "metadata": {},
   "outputs": [
    {
     "name": "stdout",
     "output_type": "stream",
     "text": [
      "Train accuracy (LogReg): 0.7103896103896103\n",
      "Test  accuracy (LogReg): 0.7260606060606061\n"
     ]
    }
   ],
   "source": [
    "# Quick sanity-check: how well does the fitted Logistic Regression generalise?\n",
    "# We compare in-sample (train) accuracy to out-of-sample (test) accuracy.\n",
    "# A large gap would hint at over-fitting; a small gap means the yard-stick model is behaving.\n",
    "\n",
    "print(\"Train accuracy (LogReg):\", log_clf.score(x_train, y_train))\n",
    "print(\"Test  accuracy (LogReg):\", log_clf.score(x_test,  y_test))"
   ]
  },
  {
   "cell_type": "markdown",
   "metadata": {},
   "source": [
    "The training-to-test gap is small; about two percentage points, with accuracy rising from 0.71 on the training fold to around 0.73 on the unseen test split. Such a narrow (and slightly positive) difference indicates that the logistic-regression baseline is neither over-fitting nor under-fitting the data: it generalises about as well as it learns. Consequently, a score in the low-70 % range becomes a legitimate yard-stick; more complex models will need to beat this mark (ideally across precision, recall, and F1 as well) to justify their added complexity."
   ]
  },
  {
   "cell_type": "code",
   "execution_count": 71,
   "metadata": {},
   "outputs": [
    {
     "name": "stdout",
     "output_type": "stream",
     "text": [
      "[[674 146]\n",
      " [306 524]]\n"
     ]
    }
   ],
   "source": [
    "# Evaluate class-level performance with a confusion matrix\n",
    "\n",
    "#  Rows = true labels, columns = predicted labels.  \n",
    "# Position (0,0) = \"A was less influential and model agreed\",  \n",
    "#   (1,1) = \"A more influential and model agreed\".  \n",
    "# Off-diagonals highlight where the classifier flips the verdict.\n",
    "\n",
    "from sklearn.metrics import confusion_matrix, classification_report\n",
    "\n",
    "cm = confusion_matrix(y_test, y_pred)   # 2 × 2 matrix for our binary task\n",
    "print(cm)"
   ]
  },
  {
   "cell_type": "markdown",
   "metadata": {},
   "source": [
    "The confusion matrix contrasts true labels (rows) with the model’s guesses (columns):\n",
    "\n",
    "    674 cases where A was not the more-influential user and the model agreed\n",
    "\n",
    "    524 cases where A was the more-influential user and the model agreed\n",
    "\n",
    "    146 + 306 = 452 mis-classifications split across the two off-diagonal cells\n",
    "\n",
    "In other words, the logistic baseline gets 1 198 of 1 650 judgements right (around 73 %), with the remaining 27 % split between false alarms (predicting A wins when B does) and misses (failing to spot that A actually wins)."
   ]
  },
  {
   "cell_type": "code",
   "execution_count": 72,
   "metadata": {},
   "outputs": [
    {
     "name": "stdout",
     "output_type": "stream",
     "text": [
      "              precision    recall  f1-score   support\n",
      "\n",
      "           0       0.69      0.82      0.75       820\n",
      "           1       0.78      0.63      0.70       830\n",
      "\n",
      "    accuracy                           0.73      1650\n",
      "   macro avg       0.73      0.73      0.72      1650\n",
      "weighted avg       0.74      0.73      0.72      1650\n",
      "\n"
     ]
    }
   ],
   "source": [
    "# Detailed metric breakdown ― precision, recall, F1 and class support\n",
    "# Why?  Accuracy alone can hide class-specific weaknesses.  \n",
    "#       This report shows how well the model handles both outcomes:\n",
    "#       'A loses' (0) and 'A wins' (1).\n",
    "\n",
    "from sklearn.metrics import classification_report\n",
    "\n",
    "print(classification_report(y_test, y_pred))"
   ]
  },
  {
   "cell_type": "markdown",
   "metadata": {},
   "source": [
    "The classification report shows that, when the model predicts \"A is less influential\" (0) it is correct 69 % of the time and captures 82 % of all true \"0\" cases (high recall but modest precision). \n",
    "\n",
    "For the opposite class \"A is more influential\" (1) the pattern reverses: precision climbs to 78 %, yet recall slips to 63 %. Averaged across both classes this produces a macro-F1 of roughly 0.72 and an overall accuracy of 73 % on the 1 650 held-out pairs. \n",
    "\n",
    "In practical terms the model is slightly conservative. It misses some true wins for A (lower recall on class 1) but seldom labels A a winner without reasonable evidence (higher precision)."
   ]
  },
  {
   "cell_type": "markdown",
   "metadata": {},
   "source": [
    "#### **4.5 Random Forest Classifier**"
   ]
  },
  {
   "cell_type": "code",
   "execution_count": 73,
   "metadata": {},
   "outputs": [],
   "source": [
    "# Random-Forest baseline\n",
    "# Why try it?\n",
    "#    Handles non-linear interactions and implicit feature scaling.  \n",
    "#    Provides built-in feature-importance scores—useful later when we\n",
    "#    examine which deltas drive influence.  \n",
    "#    Generally robust with minimal tuning for mid-sized tabular data.\n",
    "\n",
    "\n",
    "from sklearn.ensemble import RandomForestClassifier\n",
    "\n",
    "rf_clf = RandomForestClassifier(      # default: 100 trees, Gini split\n",
    "    n_estimators=100,                 # plenty for a 5 500-row set\n",
    "    random_state=42)                  # reproducible bootstrap samples\n",
    "\n",
    "# 1) Fit on the training split\n",
    "rf_clf.fit(x_train, y_train)\n",
    "\n",
    "# 2) Generate predictions for the held-out 30 % split\n",
    "y_pred = rf_clf.predict(x_test)"
   ]
  },
  {
   "cell_type": "code",
   "execution_count": 74,
   "metadata": {},
   "outputs": [
    {
     "name": "stdout",
     "output_type": "stream",
     "text": [
      "Train accuracy (RF): 0.9938\n",
      "Test  accuracy (RF): 0.7745\n"
     ]
    }
   ],
   "source": [
    "# Accuracy snapshot – are our forest trees over-fitting?\n",
    "\n",
    "print(f\"Train accuracy (RF): {rf_clf.score(x_train, y_train):.4f}\")\n",
    "print(f\"Test  accuracy (RF): {rf_clf.score(x_test,  y_test):.4f}\")"
   ]
  },
  {
   "cell_type": "code",
   "execution_count": 77,
   "metadata": {},
   "outputs": [
    {
     "data": {
      "text/html": [
       "<div>\n",
       "<style scoped>\n",
       "    .dataframe tbody tr th:only-of-type {\n",
       "        vertical-align: middle;\n",
       "    }\n",
       "\n",
       "    .dataframe tbody tr th {\n",
       "        vertical-align: top;\n",
       "    }\n",
       "\n",
       "    .dataframe thead th {\n",
       "        text-align: right;\n",
       "    }\n",
       "</style>\n",
       "<table border=\"1\" class=\"dataframe\">\n",
       "  <thead>\n",
       "    <tr style=\"text-align: right;\">\n",
       "      <th></th>\n",
       "      <th>importance</th>\n",
       "    </tr>\n",
       "  </thead>\n",
       "  <tbody>\n",
       "    <tr>\n",
       "      <th>A/B_mentions_sent</th>\n",
       "      <td>0.152501</td>\n",
       "    </tr>\n",
       "    <tr>\n",
       "      <th>A/B_listed_count</th>\n",
       "      <td>0.152087</td>\n",
       "    </tr>\n",
       "    <tr>\n",
       "      <th>A/B_follower_count</th>\n",
       "      <td>0.140901</td>\n",
       "    </tr>\n",
       "    <tr>\n",
       "      <th>A/B_network_feature_3</th>\n",
       "      <td>0.134290</td>\n",
       "    </tr>\n",
       "    <tr>\n",
       "      <th>A/B_retweets_sent</th>\n",
       "      <td>0.113973</td>\n",
       "    </tr>\n",
       "    <tr>\n",
       "      <th>A/B_posts</th>\n",
       "      <td>0.086930</td>\n",
       "    </tr>\n",
       "    <tr>\n",
       "      <th>A/B_retweets_received</th>\n",
       "      <td>0.079508</td>\n",
       "    </tr>\n",
       "    <tr>\n",
       "      <th>A/B_network_feature_2</th>\n",
       "      <td>0.076277</td>\n",
       "    </tr>\n",
       "    <tr>\n",
       "      <th>A/B_following_count</th>\n",
       "      <td>0.063532</td>\n",
       "    </tr>\n",
       "  </tbody>\n",
       "</table>\n",
       "</div>"
      ],
      "text/plain": [
       "                       importance\n",
       "A/B_mentions_sent        0.152501\n",
       "A/B_listed_count         0.152087\n",
       "A/B_follower_count       0.140901\n",
       "A/B_network_feature_3    0.134290\n",
       "A/B_retweets_sent        0.113973\n",
       "A/B_posts                0.086930\n",
       "A/B_retweets_received    0.079508\n",
       "A/B_network_feature_2    0.076277\n",
       "A/B_following_count      0.063532"
      ]
     },
     "execution_count": 77,
     "metadata": {},
     "output_type": "execute_result"
    }
   ],
   "source": [
    "\n",
    "# Which signals does the forest care about most?\n",
    "\n",
    "# A Random Forest naturally produces a feature-importance score:\n",
    "#   – Importance = average reduction in impurity (Gini) the split\n",
    "#     delivers, weighted across all trees.\n",
    "#   – Higher value --> feature is used often and early in the trees,\n",
    "#     i.e. it carries more predictive leverage.\n",
    "\n",
    "# Build a tidy DataFrame for easy viewing / plotting\n",
    "rf_importances = (\n",
    "    pd.DataFrame(\n",
    "        rf_clf.feature_importances_,\n",
    "        index=x_train.columns,\n",
    "        columns=['importance']\n",
    "    )\n",
    "    .sort_values('importance', ascending=False)\n",
    ")\n",
    "\n",
    "rf_importances  # display in-notebook"
   ]
  },
  {
   "cell_type": "code",
   "execution_count": 78,
   "metadata": {},
   "outputs": [],
   "source": [
    "# 2nd pass: shrink to the most informative features only\n",
    "\n",
    "# Why?\n",
    "#   The full nine-delta set works, but pruning to the \"heavy\n",
    "#   hitters\" can cut noise, speed-up training, and surface a \n",
    "#   cleaner interpretation layer.  \n",
    "#   A quick rule-of-thumb: keep variables whose mean Gini-gain\n",
    "#   greater than 0.08 in the initial forest.\n",
    "\n",
    "top_feats = [\n",
    "    'A/B_mentions_sent',\n",
    "    'A/B_listed_count',\n",
    "    'A/B_follower_count',\n",
    "    'A/B_network_feature_3',\n",
    "    'A/B_retweets_sent',\n",
    "    'A/B_posts'\n",
    "]\n",
    "\n",
    "# Re-slice the design matrix\n",
    "X_top = x_train[top_feats]\n",
    "Y_top = y_train\n",
    "\n",
    "# Fresh forest on the slimmed feature-space\n",
    "rf_top_clf = RandomForestClassifier(random_state=42)\n",
    "rf_top_clf.fit(X_top, Y_top)\n",
    "\n",
    "# Evaluate on the unchanged test set (remember: same columns exist there)\n",
    "y_pred = rf_top_clf.predict(x_test[top_feats])"
   ]
  },
  {
   "cell_type": "code",
   "execution_count": 80,
   "metadata": {},
   "outputs": [
    {
     "name": "stdout",
     "output_type": "stream",
     "text": [
      "Train accuracy (RF-top): 0.9937662337662337\n",
      "Test  accuracy (RF-top): 0.7678787878787878\n"
     ]
    }
   ],
   "source": [
    "# Re-check performance after pruning the feature set\n",
    "\n",
    "# Expectation:\n",
    "#   Train accuracy may dip a little (fewer splits to memorise noise).  \n",
    "#   Test accuracy should stay flat or tick up if we really did\n",
    "#   remove low-signal columns.\n",
    "\n",
    "print(\"Train accuracy (RF-top):\", rf_top_clf.score(x_train[top_feats], y_train))\n",
    "print(\"Test  accuracy (RF-top):\",  rf_top_clf.score(x_test[top_feats],  y_test))"
   ]
  },
  {
   "cell_type": "markdown",
   "metadata": {},
   "source": [
    "The trimmed-feature Random Forest still captures the training data almost perfectly ( 99 % ) while generalising to unseen cases at roughly 77 %. The 22-percentage-point gap flags modest over-fitting, which is a common trait of deep, un-pruned forest. In practice this suggests the model is leveraging genuine signal from the top predictors while memorising some dataset-specific quirks that could be tamed later via shallower trees, stronger regularisation or additional cross-validation tuning."
   ]
  },
  {
   "cell_type": "code",
   "execution_count": 84,
   "metadata": {},
   "outputs": [
    {
     "name": "stdout",
     "output_type": "stream",
     "text": [
      "[[619 201]\n",
      " [182 648]]\n"
     ]
    }
   ],
   "source": [
    "# Confusion matrix – stacks the model’s hits and misses\n",
    "# Rows = actual labels (0 = B wins, 1 = A wins)\n",
    "# Cols = predictions made by the trimmed-feature Random Forest\n",
    "# Gives a quick pulse on class-specific behaviour beyond the single\n",
    "# accuracy figure.\n",
    "\n",
    "from sklearn.metrics import confusion_matrix, classification_report\n",
    "\n",
    "conf_mat = confusion_matrix(y_test, y_pred)\n",
    "print(conf_mat)"
   ]
  },
  {
   "cell_type": "markdown",
   "metadata": {},
   "source": [
    "Out of 1650 held-out pairs the trimmed-feature Random Forest now gets 1267 right (76.8 % overall accuracy). Error is still split fairly evenly between the two mistake types, suggesting the model is not strongly biased toward either side but is slightly over-confident in declaring A the winner."
   ]
  },
  {
   "cell_type": "code",
   "execution_count": 85,
   "metadata": {},
   "outputs": [
    {
     "name": "stdout",
     "output_type": "stream",
     "text": [
      "              precision    recall  f1-score   support\n",
      "\n",
      "           0       0.77      0.75      0.76       820\n",
      "           1       0.76      0.78      0.77       830\n",
      "\n",
      "    accuracy                           0.77      1650\n",
      "   macro avg       0.77      0.77      0.77      1650\n",
      "weighted avg       0.77      0.77      0.77      1650\n",
      "\n"
     ]
    }
   ],
   "source": [
    "# Summarise class-level performance metrics with a classification report...\n",
    "# - Precision\n",
    "# - Recall    \n",
    "# - F1-score   \n",
    "# - Support \n",
    "\n",
    "print(classification_report(y_test, y_pred))"
   ]
  },
  {
   "cell_type": "markdown",
   "metadata": {},
   "source": [
    "The trimmed-feature Random Forest balances its errors fairly well: overall accuracy lands at 0.77, with precision and recall both hovering in the mid-to-high-70 percent range for each class. In practical terms, roughly three-quarters of the users the model flags as \"more influential\" truly are - and it successfully retrieves about the same proportion of the genuine influencers present in the test set. That symmetry is encouraging; we are not trading off a flood of false alarms for coverage, nor vice-versa."
   ]
  },
  {
   "cell_type": "markdown",
   "metadata": {},
   "source": [
    "#### **4.6 k-Nearest Neighbours**"
   ]
  },
  {
   "cell_type": "code",
   "execution_count": 86,
   "metadata": {},
   "outputs": [],
   "source": [
    "# k-Nearest Neighbours (KNN)\n",
    "# Goal: use a simple instance-based learner as a distance-driven\n",
    "#       sanity check against the tree / linear models tried so far.\n",
    "#\n",
    "# Why KNN?\n",
    "#   1) Zero training assumptions – classification is based purely\n",
    "#   on proximity in feature space.  \n",
    "#   2) Provides a helpful contrast: if it scores close to the\n",
    "#   linear models, our deltas are already well-separated; if it\n",
    "#   collapses, we may need additional scaling or weighting.  \n",
    "#   3) 'k' is set to 5 (a common starting point) and Euclidean\n",
    "#   distance is used because all nine delta features live on a\n",
    "#   comparable numeric scale.\n",
    "\n",
    "from sklearn.neighbors import KNeighborsClassifier\n",
    "\n",
    "knn_clf = KNeighborsClassifier(n_neighbors=5, metric='euclidean')\n",
    "\n",
    "# Fit on the training split\n",
    "knn_clf.fit(x_train, y_train)\n",
    "\n",
    "# Predict class labels for the 30 % hold-out set\n",
    "y_pred = knn_clf.predict(x_test)"
   ]
  },
  {
   "cell_type": "code",
   "execution_count": 87,
   "metadata": {},
   "outputs": [
    {
     "name": "stdout",
     "output_type": "stream",
     "text": [
      "Train accuracy (KNN): 0.8182\n",
      "Test  accuracy (KNN): 0.7412\n"
     ]
    }
   ],
   "source": [
    "# Measure KNN performance on the split we established earlier.\n",
    "\n",
    "print(f\"Train accuracy (KNN): {knn_clf.score(x_train, y_train):.4f}\")\n",
    "print(f\"Test  accuracy (KNN): {knn_clf.score(x_test,  y_test ):.4f}\")"
   ]
  },
  {
   "cell_type": "markdown",
   "metadata": {},
   "source": [
    "The k-Nearest-Neighbours run posts around 0.82 accuracy on the training split and around 0.74 on the held-out test set; a gap of about 0.08. That drop is typical for an instance-based classifier that \"remembers\" every training pointl hinting at mild over-fit yet still delivering a respectable baseline. In short, KNN offers a useful distance-driven reference while we search for models that generalise with less memory overhead."
   ]
  },
  {
   "cell_type": "code",
   "execution_count": 92,
   "metadata": {},
   "outputs": [
    {
     "name": "stdout",
     "output_type": "stream",
     "text": [
      "[[584 236]\n",
      " [191 639]]\n"
     ]
    }
   ],
   "source": [
    "# Confusion Matrix for KNN\n",
    "\n",
    "from sklearn.metrics import confusion_matrix, classification_report\n",
    "\n",
    "knn_cm = confusion_matrix(y_test, y_pred)\n",
    "print(knn_cm)"
   ]
  },
  {
   "cell_type": "markdown",
   "metadata": {},
   "source": [
    "The matrix shows that K-Nearest Neighbours correctly caught 1223 of 1650 pairs (584 true-negatives + 639 true-positives), while 427 decisions were off-target (236 times it favoured A when B was the true winner, 191 the reverse). In other words, just under one-quarter of early trend contests are still mis-ranked, with errors split fairly evenly across both classes."
   ]
  },
  {
   "cell_type": "code",
   "execution_count": 94,
   "metadata": {},
   "outputs": [
    {
     "name": "stdout",
     "output_type": "stream",
     "text": [
      "              precision    recall  f1-score   support\n",
      "\n",
      "           0       0.75      0.71      0.73       820\n",
      "           1       0.73      0.77      0.75       830\n",
      "\n",
      "    accuracy                           0.74      1650\n",
      "   macro avg       0.74      0.74      0.74      1650\n",
      "weighted avg       0.74      0.74      0.74      1650\n",
      "\n"
     ]
    }
   ],
   "source": [
    "# Classification report for KNN\n",
    "\n",
    "print(classification_report(y_test, y_pred))"
   ]
  },
  {
   "cell_type": "markdown",
   "metadata": {},
   "source": [
    "The K = 5 KNN run lands at a balanced precision/recall mix of around 0.74 for both classes: the model correctly labels 75 % of \"B-is-more-influential\" cases (class 0) while retrieving 71 % of them, and flips those numbers for the \"A-wins\" cases (class 1). The macro-averaged F1 of 0.74 confirms a broadly symmetrical performance."
   ]
  },
  {
   "cell_type": "markdown",
   "metadata": {},
   "source": [
    "#### **4.7 XGBoost Classifier**"
   ]
  },
  {
   "cell_type": "code",
   "execution_count": 99,
   "metadata": {},
   "outputs": [
    {
     "name": "stdout",
     "output_type": "stream",
     "text": [
      "XGBClassifier(base_score=None, booster=None, callbacks=None,\n",
      "              colsample_bylevel=None, colsample_bynode=None,\n",
      "              colsample_bytree=None, device=None, early_stopping_rounds=None,\n",
      "              enable_categorical=False, eta=0.3, eval_metric=None,\n",
      "              feature_types=None, gamma=None, grow_policy=None,\n",
      "              importance_type=None, interaction_constraints=None,\n",
      "              learning_rate=None, max_bin=None, max_cat_threshold=None,\n",
      "              max_cat_to_onehot=None, max_delta_step=None, max_depth=2,\n",
      "              max_leaves=None, min_child_weight=None, missing=nan,\n",
      "              monotone_constraints=None, multi_strategy=None, n_estimators=None,\n",
      "              n_jobs=None, num_parallel_tree=None, ...)\n"
     ]
    }
   ],
   "source": [
    "# Gradient-boosted contender (XGBoost)\n",
    "\n",
    "# Why XGBoost?\n",
    "#   1) Often tops tabular-data leaderboards thanks to sequential\n",
    "#   tree boosting and clever regularisation.  \n",
    "#   2) Handles non-linear interactions that simpler learners miss.  \n",
    "#   3) Still CPU-friendly for ~5 k rows, so remains “light-weight”\n",
    "#   enough for a prototype.\n",
    "\n",
    "\n",
    "from xgboost import XGBClassifier, plot_importance\n",
    "\n",
    "# Basic, low-depth spec – keeps inference fast and curbs over-fit\n",
    "xgb_clf = XGBClassifier(\n",
    "    max_depth=2,                 # shallow trees --> fewer id splits\n",
    "    objective='binary:logistic', # 0/1 head-to-head outcome\n",
    "    eta=0.3                      # learning-rate (default 0.3)  \n",
    ")\n",
    "\n",
    "# Fit on the full training portion\n",
    "xgb_clf.fit(x_train, y_train)\n",
    "\n",
    "# Sanity print of the fitted estimator (shows learned params)\n",
    "print(xgb_clf)\n",
    "\n",
    "# Predict class labels for the 30 % hold-out split\n",
    "y_pred = xgb_clf.predict(x_test)"
   ]
  },
  {
   "cell_type": "code",
   "execution_count": 100,
   "metadata": {},
   "outputs": [
    {
     "name": "stdout",
     "output_type": "stream",
     "text": [
      "Training accuracy (XGB): 0.8164\n",
      "Test  accuracy (XGB): 0.7873\n"
     ]
    },
    {
     "data": {
      "image/png": "[encoded data removed]",
      "text/plain": [
       "<Figure size 640x480 with 1 Axes>"
      ]
     },
     "metadata": {},
     "output_type": "display_data"
    }
   ],
   "source": [
    "# Evaluate the XGBoost ensemble and visualise which features it rates highest\n",
    "\n",
    "# 1) Accuracy on train *vs* test gives a quick over- vs under-fit check.\n",
    "# 2) plot_importance ranks the raw gain each feature contributes across trees\n",
    "# This is a handy sanity-check before deeper SHAP analysis.\n",
    "\n",
    "print(f\"Training accuracy (XGB): {model_xgb.score(x_train, y_train):.4f}\")\n",
    "print(f\"Test  accuracy (XGB): {model_xgb.score(x_test,  y_test):.4f}\")\n",
    "\n",
    "# Bar chart of the nine delta-features sorted by average split gain\n",
    "from xgboost import plot_importance\n",
    "plot_importance(model_xgb, max_num_features=9)\n",
    "pyplot.show()"
   ]
  },
  {
   "cell_type": "code",
   "execution_count": 101,
   "metadata": {},
   "outputs": [
    {
     "data": {
      "image/png": "[encoded data removed]",
      "text/plain": [
       "<Figure size 640x480 with 1 Axes>"
      ]
     },
     "metadata": {},
     "output_type": "display_data"
    }
   ],
   "source": [
    "# Re-run XGBoost using only the five strongest signals\n",
    "\n",
    "# Motivation:\n",
    "#   Strip the model down to its highest-gain features (per the previous\n",
    "#   plot_importance) and see how much accuracy we sacrifice.\n",
    "\n",
    "#   A lean feature set is cheaper to compute in any real-time pipeline.  \n",
    "\n",
    "from xgboost import XGBClassifier, plot_importance\n",
    "from sklearn.metrics import confusion_matrix, classification_report\n",
    "\n",
    "# 1) Columns ranked top-5 for split-gain in the full XGB run\n",
    "top_cols = [\n",
    "    'A/B_follower_count',\n",
    "    'A/B_network_feature_3',\n",
    "    'A/B_listed_count',\n",
    "    'A/B_network_feature_2',\n",
    "    'A/B_retweets_received'\n",
    "]\n",
    "\n",
    "# 2) Build a new design-matrix containing only those columns\n",
    "x_top = x_train[top_cols]\n",
    "x_test_top = x_test[top_cols]      # keep train/test symmetry\n",
    "y_top   = y_train                  # labels stay the same\n",
    "\n",
    "# 3) Fresh (untuned) XGBoost on the reduced feature space\n",
    "xgb_top = XGBClassifier(max_depth=2, objective='binary:logistic', eta=0.3)\n",
    "xgb_top.fit(x_top, y_top)\n",
    "\n",
    "# 4) Predict on the held-out set built from the same top-5 features\n",
    "y_pred = xgb_top.predict(x_test_top)\n",
    "\n",
    "# 5) Visualise which of the five still carry the most weight\n",
    "plot_importance(xgb_top, max_num_features=5)\n",
    "pyplot.show()"
   ]
  },
  {
   "cell_type": "code",
   "execution_count": 102,
   "metadata": {},
   "outputs": [
    {
     "name": "stdout",
     "output_type": "stream",
     "text": [
      "Train accuracy (XGB-top5): 0.7997\n",
      "Test  accuracy (XGB-top5):  0.7630\n"
     ]
    }
   ],
   "source": [
    "# Accuracy snapshot for the slimmed-down XGB model\n",
    "# We reuse the \"top-5\" train/test matrices created in the previous cell.\n",
    "\n",
    "print(f\"Train accuracy (XGB-top5): {xgb_top.score(x_top, y_top):.4f}\")\n",
    "print(f\"Test  accuracy (XGB-top5):  {xgb_top.score(x_test_top, y_test):.4f}\")"
   ]
  },
  {
   "cell_type": "markdown",
   "metadata": {},
   "source": [
    "The top-5 XGBoost run clocks in at roughly 0.80 on the training fold and 0.76 on the held-out test set; only a 4-point drop. That slim gap suggests the booster is learning genuine signal rather than memorising quirks of the training pairs; in other words, over-fitting is minor and the model’s generalisation to unseen influencer match-ups remains solid."
   ]
  },
  {
   "cell_type": "code",
   "execution_count": 107,
   "metadata": {},
   "outputs": [
    {
     "name": "stdout",
     "output_type": "stream",
     "text": [
      "[[619 201]\n",
      " [190 640]]\n"
     ]
    }
   ],
   "source": [
    "# Confusion-matrix to inspect the pattern of hits vs. misses\n",
    "# (row = actual class, col = predicted class)\n",
    "from sklearn.metrics import confusion_matrix, classification_report\n",
    "\n",
    "cm_xgb = confusion_matrix(y_test, y_pred)\n",
    "print(cm_xgb)"
   ]
  },
  {
   "cell_type": "markdown",
   "metadata": {},
   "source": [
    "The matrix shows that 619 pairs in which User A truly \"won\" were classified correctly, while 201 such cases were mistaken for User B superiority. Conversely, 640 of the genuine User B wins were recognised correctly, with 190 mis-flags. Summing the diagonal gives 1259 correct vs 391 errors, matching the earlier 76 % test accuracy. The error pattern is roughly symmetrical, suggesting the model does not carry a systemic bias toward either class; most residual mistakes stem from borderline pairs where the five retained features offer only a weak performance margin."
   ]
  },
  {
   "cell_type": "code",
   "execution_count": 111,
   "metadata": {},
   "outputs": [
    {
     "name": "stdout",
     "output_type": "stream",
     "text": [
      "              precision    recall  f1-score   support\n",
      "\n",
      "           0       0.77      0.75      0.76       820\n",
      "           1       0.76      0.77      0.77       830\n",
      "\n",
      "    accuracy                           0.76      1650\n",
      "   macro avg       0.76      0.76      0.76      1650\n",
      "weighted avg       0.76      0.76      0.76      1650\n",
      "\n"
     ]
    }
   ],
   "source": [
    "# Classification report for XGBoost\n",
    "\n",
    "print(classification_report(y_test, y_pred))"
   ]
  },
  {
   "cell_type": "markdown",
   "metadata": {},
   "source": [
    "The tuned XGBoost classifier delivers a well-balanced result: overall accuracy sits at 0.76, with class-specific precision/recall pairs tightly coupled (around 0.77 / 0.75 for class 0 and 0.76 / 0.77 for class 1). \n",
    "\n",
    "This symmetry indicates the model is neither favouring \"A wins\" nor \"B wins\" and is maintaining a healthy trade-off between false positives and false negatives. The macro and weighted averages match the headline figures, confirming the dataset’s near-perfect class balance (820 vs 830) and that no single class is skewing the metrics."
   ]
  },
  {
   "cell_type": "markdown",
   "metadata": {},
   "source": [
    "### **5. Closing Statements to Feature Prototype**"
   ]
  },
  {
   "cell_type": "markdown",
   "metadata": {},
   "source": [
    "#### **5.1  What we have proven so far**  \n",
    "* **Clean import & EDA** - 5 500 peer-pairs loaded straight from *train.csv*, validated as null-free, typed correctly, and statistically profiled (`.info()`, `.describe()`, Pearson heat-maps).  \n",
    "* **Compact delta features** - Nine *A minus B* signals (followers, mentions, retweets …​) distilled each pair into a **single 9-D vector**, letting all subsequent models reason about *relative* influence rather than memorising two big blocks of columns.  \n",
    "* **Baseline model sweep** - Four classic learners were cross-validated (stratified 10-fold) then benchmarked on a 30 % hold-out set:  \n",
    "\n",
    "| model |  cross-validation accuracy | test acc | key take-away |\n",
    "|-------|-----------:|---------:|---------------|\n",
    "| Logistic Reg. | ~0.71 ± 0.01 | **0.73** | linear yard-stick, no gaudy over-fit |\n",
    "| k-NN | ~0.74 ± 0.02 | **0.74** | distance works, but memory-heavy |\n",
    "| Random Forest | ~0.76 ± 0.02 | **0.77** | strongest so far, rich feature importances |\n",
    "| XGBoost (top-5) | ~0.80 ± 0.02 | **0.76** | solid, but slight generalisation dip |\n",
    "\n",
    "* **Diagnostics** – Confusion matrices and full precision/recall/F1 reports exposed each model’s error profile; RF and XGB were the most balanced (around 0.77 macro-F1).  \n",
    "* **Feature insights** – `A/B_mentions_sent`, `A/B_listed_count`, and `A/B_follower_count` consistently surfaced as the top three importance scores, hinting that **breadth of acknowledgement** (mentions & lists) edges raw audience size in early-trend prediction.\n",
    "\n",
    "---\n",
    "\n",
    "#### **5.2  Where the prototype still falls short**\n",
    "1. **Lexical silence** – No text content yet (tweets, bios, hashtags); linguistic stance and sentiment are absent.  \n",
    "2. **Static snapshot** – Every row is treated as a frozen moment; *velocity* (tweet-rate acceleration) and temporal shape are ignored.  \n",
    "3. **Light graph signal only** – We retained `network_feature_2/3`, but deeper topology (degree z-score, frontier density) is still on the drawing board.  \n",
    "4. **Hyper-parameters = defaults** – No grid or Bayesian optimisation; we may be leaving accuracy on the table.  \n",
    "5. **Latency unknown** – Inference time has not yet been logged, so we cannot confirm the sub-300 ms budget promised in Chapter 3.7.  \n",
    "\n",
    "---\n",
    "\n",
    "#### **5.3  Immediate upgrades planned for Phase 2**  \n",
    "\n",
    "| track | concrete action | rationale & link to Chapter 3 goals |\n",
    "|-------|-----------------|-------------------------------------|\n",
    "| **Lexical** | TF-IDF of last-25 tweets *plus* distilled-BERT sentiment (pre-computed offline) | marries Chapter 2’s NLP surveys with current numeric deltas; expects a recall lift on opinion-driven cascades |\n",
    "| **Graph / structure** | degree z-score, rolling attention entropy, frontier density via NetworkX | injects Weng-style limited-attention cues without GPU overhead |\n",
    "| **Temporal** | tweet-rate first-derivative per user-pair | early bursts often show super-linear posting speed |\n",
    "| **Model tuning** | GridSearchCV for RF & XGB; CalibratedClassifierCV for probability honesty | pushes macro-F1 toward the ≥ 0.70 target and yields well-calibrated risk scores |\n",
    "| **Evaluation** | stratified 5-fold CV **+** micro-cascade (< 50 nodes) hold-out; log median latency | aligns exactly with the experimental protocol in Chapter 3.7 of my preliminary report |\n",
    "| **Live data hook** | Tweepy listener sampling 1 % public stream for a weekend | sanity-check generalisation and pave the way for Chapter 4’s real-time demo |\n",
    "\n",
    "---\n",
    "\n",
    "#### **5.4  Success metrics/standards going forward**  \n",
    "* **Primary** – Macro-F1 greater than or equal to 0.70 *and* no worse than –3 pts on the micro-cascade split, with median inference < 300 ms on a mid-range CPU.  \n",
    "* **Secondary** – Beat the feature-engineered baselines of the papers found in my literature review while approaching DeepCas-level accuracy without requiring GPUs.  \n",
    "* **Exploratory** – Assess whether adding sentiment truly lifts recall for minority-class \"A loses\" cases, and quantify latency cost per added feature-track.\n",
    "\n",
    "---\n",
    "\n",
    "#### **5.5  Some Closing notes...**  \n",
    "This notebook has carried the project from idea to evidence via a reproducible proof-of-concept: clean data ingestion, delta-feature engineering, a baseline model sweep, and first-cut insights into which early signals actually matter. That foundation lets us now look up and plan the next leaps:\n",
    "\n",
    "    Richer model zoo – bring in transformer-based text encoders (distil-BERT as an offline sentiment/stance head; full BERT or RoBERTa fine-tuned on tweet snippets) and a lightweight GraphSAGE variant for structure. Each new learner will be benchmarked against our Random-Forest/XGB yard-sticks to prove that extra complexity really pays for itself.\n",
    "\n",
    "    Broader data diet – bolt a Tweepy listener onto the pipeline to capture fresh, time-stamped tweets, letting us test generalisation beyond the static PeerIndex pairs and explore cold-start cascades that never hit Kaggle.\n",
    "\n",
    "    Cross-dataset validation – if time permits, fold in one additional public source (e.g. Reddit meme propagation or a TikTok hashtag dump) to stress-test feature portability and expose domain-specific quirks early.\n",
    "\n",
    "    Latency budgeting – wrap every scoring call in a simple timer so we can measure the millisecond cost of each new feature track; performance wins must remain sub-300 ms to honour the “real-time-ready” promise set in Chapter 3.\n",
    "\n",
    "    Automated tuning & calibration – schedule GridSearchCV or Optuna sweeps for the two strongest families (currently RF & XGB), then pass the winners through CalibratedClassifierCV so probability outputs are trustworthy enough for dashboard thresholds.\n",
    "\n",
    "    A/B ablations as policy – for every feature we add, run a with vs. without ablation so the dissertation can state, with numbers, exactly what each signal buys us.\n",
    "\n",
    "    Metric completeness – the quick-and-dirty prototype focused on classification metrics (accuracy, precision, recall, F1) and confusion-matrix analysis. RMSE for any future time-series/forecast heads is still missing, so the next iteration will add RMSE (and MAE/MSLE if we venture into cascade-size regression) to line up with the evaluation menu promised in Chapter 3.7 and allow apples-to-apples comparison with the DeepCas / CasFT benchmarks.\n",
    "\n",
    "    In short, the forthcoming sprint will deepen the feature stack, diversify the models, and harden the evaluation loopall while keeping the codebase lean enough for a single-notebook demo and light enough to slot into a production dashboard without extensive GPU use.\n",
    "\n",
    "Thank you for watching/reading! :)"
   ]
  }
 ],
 "metadata": {
  "kernelspec": {
   "display_name": "Python 3 (ipykernel)",
   "language": "python",
   "name": "python3"
  },
  "language_info": {
   "codemirror_mode": {
    "name": "ipython",
    "version": 3
   },
   "file_extension": ".py",
   "mimetype": "text/x-python",
   "name": "python",
   "nbconvert_exporter": "python",
   "pygments_lexer": "ipython3",
   "version": "3.11.13"
  }
 },
 "nbformat": 4,
 "nbformat_minor": 4
}
